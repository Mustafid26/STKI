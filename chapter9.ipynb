{
 "cells": [
  {
   "cell_type": "code",
   "execution_count": 1,
   "metadata": {},
   "outputs": [
    {
     "name": "stdout",
     "output_type": "stream",
     "text": [
      "Akurasi model: 100.00%\n"
     ]
    }
   ],
   "source": [
    "# Impor library yang diperlukan\n",
    "from sklearn.datasets import load_iris #dataset dari sklearn\n",
    "from sklearn.model_selection import train_test_split\n",
    "from sklearn.neighbors import KNeighborsClassifier\n",
    "from sklearn.metrics import accuracy_score\n",
    "\n",
    "# Muat dataset Iris\n",
    "#dapat dirubah menggunakan dataset yang lain\n",
    "iris = load_iris()\n",
    "X = iris.data\n",
    "y = iris.target\n",
    "\n",
    "# Bagi data menjadi data latih dan data uji\n",
    "X_train, X_test, y_train, y_test = train_test_split(X, y, test_size=0.2, random_state=42)\n",
    "\n",
    "# Inisialisasi model K-Nearest Neighbors (KNN) dengan k=3\n",
    "model = KNeighborsClassifier(n_neighbors=3)\n",
    "\n",
    "# Latih model menggunakan data latih\n",
    "model.fit(X_train, y_train)\n",
    "\n",
    "# Lakukan prediksi pada data uji\n",
    "y_pred = model.predict(X_test)\n",
    "\n",
    "# Hitung akurasi model dengan membandingkan prediksi dengan label sebenarnya pada data uji\n",
    "accuracy = accuracy_score(y_test, y_pred)\n",
    "\n",
    "# Tampilkan hasil akurasi\n",
    "print(\"Akurasi model: {:.2f}%\".format(accuracy * 100))\n"
   ]
  },
  {
   "cell_type": "code",
   "execution_count": 3,
   "metadata": {},
   "outputs": [
    {
     "name": "stdout",
     "output_type": "stream",
     "text": [
      "Presisi model: 1.00\n",
      "Recall model: 1.00\n"
     ]
    }
   ],
   "source": [
    "\n",
    "from sklearn.metrics import precision_score, recall_score\n",
    "\n",
    "# Muat dataset Iris\n",
    "iris = load_iris()\n",
    "X = iris.data\n",
    "y = iris.target\n",
    "\n",
    "# Bagi data menjadi data latih dan data uji\n",
    "X_train, X_test, y_train, y_test = train_test_split(X, y, test_size=0.2, random_state=42)\n",
    "\n",
    "# Inisialisasi model K-Nearest Neighbors (KNN) dengan k=3\n",
    "model = KNeighborsClassifier(n_neighbors=3)\n",
    "\n",
    "# Latih model menggunakan data latih\n",
    "model.fit(X_train, y_train)\n",
    "\n",
    "# Lakukan prediksi pada data uji\n",
    "y_pred = model.predict(X_test)\n",
    "\n",
    "# Hitung presisi model\n",
    "precision = precision_score(y_test, y_pred, average='macro')\n",
    "\n",
    "# Hitung recall model\n",
    "recall = recall_score(y_test, y_pred, average='macro')\n",
    "\n",
    "# Tampilkan hasil presisi dan recall\n",
    "print(\"Presisi model: {:.2f}\".format(precision))\n",
    "print(\"Recall model: {:.2f}\".format(recall))"
   ]
  },
  {
   "cell_type": "code",
   "execution_count": null,
   "metadata": {},
   "outputs": [],
   "source": []
  }
 ],
 "metadata": {
  "kernelspec": {
   "display_name": "Python 3",
   "language": "python",
   "name": "python3"
  },
  "language_info": {
   "codemirror_mode": {
    "name": "ipython",
    "version": 3
   },
   "file_extension": ".py",
   "mimetype": "text/x-python",
   "name": "python",
   "nbconvert_exporter": "python",
   "pygments_lexer": "ipython3",
   "version": "3.11.9"
  }
 },
 "nbformat": 4,
 "nbformat_minor": 2
}
